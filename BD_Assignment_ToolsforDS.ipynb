{
 "cells": [
  {
   "cell_type": "markdown",
   "metadata": {},
   "source": [
    "<center>\n",
    "    <img src=\"https://cf-courses-data.s3.us.cloud-object-storage.appdomain.cloud/IBMDeveloperSkillsNetwork-DS0105EN-SkillsNetwork/labs/Module2/images/SN_web_lightmode.png\" width=\"300\" alt=\"cognitiveclass.ai logo\">\n",
    "</center>\n"
   ]
  },
  {
   "cell_type": "markdown",
   "metadata": {},
   "source": [
    "#### Add your code below following the instructions given in the course\n"
   ]
  },
  {
   "cell_type": "markdown",
   "metadata": {},
   "source": [
    "Exercise 2 - Create a markdown cell with the title of the notebook. (1 pt)\n",
    "***\n",
    "# Title: Tools for Data Science Assignment"
   ]
  },
  {
   "cell_type": "markdown",
   "metadata": {},
   "source": [
    "Exercise 3 - Create a markdown cell for an introduction. (1 pt)\n",
    "***\n",
    "### Introduction: This is a notebook to complete the peer-graded assignment for the IBM Data Tools for Data Science Module"
   ]
  },
  {
   "cell_type": "markdown",
   "metadata": {},
   "source": [
    "Exercise 4 - Create a markdown cell to list data science languages. (3 pts)\n",
    "***\n",
    "Some of the data science languages:\n",
    "+ Python\n",
    "+ R\n",
    "+ SQL\n",
    "+ Java\n",
    "+ C++\n",
    "+ Scala\n"
   ]
  },
  {
   "cell_type": "markdown",
   "metadata": {},
   "source": [
    "Exercise 5 - Create a markdown cell to list data science libraries. (3 pts)\n",
    "***\n",
    "Some of the data science libraries:\n",
    "+ pandas\n",
    "+ ggplot\n",
    "+ numpy\n",
    "+ matplotlib\n",
    "+ scipy\n",
    "+ pytorch\n",
    "+ tensorflow"
   ]
  },
  {
   "cell_type": "markdown",
   "metadata": {},
   "source": [
    "Exercise 6 - Create a markdown cell with a table of Data Science tools. (3 pts)\n",
    "***\n",
    "|No.|DS Tool|Type|\n",
    "|------|------|------|\n",
    "|1|Apache Airflow|Data Integration and Transformation|\n",
    "|2|Apache Nifi|Data Integration and Transformation|\n",
    "|3|MySQL|Data Management|\n",
    "|4|Kibana|Data Exploration|\n",
    "|5|TensorFlow Lite|Model Deployment|\n",
    "|6|GitHub|Code Asset Management|"
   ]
  },
  {
   "cell_type": "markdown",
   "metadata": {},
   "source": [
    "Exercise 7 - Create a markdown cell introducing arithmetic expression examples. (1 pt)\n",
    "***\n",
    "Below is an example of simple arithmetic expression"
   ]
  },
  {
   "cell_type": "code",
   "execution_count": 7,
   "metadata": {},
   "outputs": [
    {
     "data": {
      "text/plain": [
       "20.0"
      ]
     },
     "execution_count": 7,
     "metadata": {},
     "output_type": "execute_result"
    }
   ],
   "source": [
    "5*((25+3)/7)"
   ]
  },
  {
   "cell_type": "markdown",
   "metadata": {},
   "source": [
    "Exercise 8 - Create a code cell to multiply and add numbers.(2 pts)"
   ]
  },
  {
   "cell_type": "code",
   "execution_count": 4,
   "metadata": {},
   "outputs": [
    {
     "name": "stdout",
     "output_type": "stream",
     "text": [
      "4  +  9  =  13\n",
      "4  x  9  =  36\n"
     ]
    }
   ],
   "source": [
    "x=4\n",
    "y=9\n",
    "z_sum=x+y\n",
    "z_prod=x*y\n",
    "print(x, \" + \", y, \" = \", z_sum)\n",
    "print(x, \" x \", y, \" = \", z_prod)"
   ]
  },
  {
   "cell_type": "markdown",
   "metadata": {},
   "source": [
    "Exercise 9 - Create a code cell to convert minutes to hours. (2 pts)"
   ]
  },
  {
   "cell_type": "code",
   "execution_count": 5,
   "metadata": {},
   "outputs": [
    {
     "name": "stdout",
     "output_type": "stream",
     "text": [
      "360  minutes =  6.0  hours\n"
     ]
    }
   ],
   "source": [
    "m=360\n",
    "hr=m/60\n",
    "print(m, \" minutes = \", hr, \" hours\")"
   ]
  },
  {
   "cell_type": "markdown",
   "metadata": {},
   "source": [
    "Exercise 10 -Insert a markdown cell to list Objectives. (3 pts)\n",
    "***\n",
    "List of assignment objectives:\n",
    "+ Create a markdown cell with the title of the notebook\n",
    "+ Create a markdown cell for an introduction\n",
    "+ Create a markdown cell to list data science languages\n",
    "+ Create a markdown cell to list data science libraries\n",
    "+ Create a markdown cell with a table of Data Science tools\n",
    "+ Create a markdown cell introducing arithmetic expression examples\n",
    "+ Create a code cell to multiply and add numbers\n",
    "+ Create a code cell to convert minutes to hours\n",
    "+ Insert a markdown cell to list Objectives\n",
    "+ Create a markdown cell to indicate the Author’s name\n",
    "+ Share your notebook through GitHub\n",
    "+ Take a screenshot of the first page of the notebook"
   ]
  },
  {
   "cell_type": "markdown",
   "metadata": {},
   "source": [
    "### Author: Banshai Dympep"
   ]
  },
  {
   "cell_type": "code",
   "execution_count": null,
   "metadata": {},
   "outputs": [],
   "source": []
  }
 ],
 "metadata": {
  "kernelspec": {
   "display_name": "Python",
   "language": "python",
   "name": "conda-env-python-py"
  },
  "language_info": {
   "codemirror_mode": {
    "name": "ipython",
    "version": 3
   },
   "file_extension": ".py",
   "mimetype": "text/x-python",
   "name": "python",
   "nbconvert_exporter": "python",
   "pygments_lexer": "ipython3",
   "version": "3.7.12"
  }
 },
 "nbformat": 4,
 "nbformat_minor": 4
}
